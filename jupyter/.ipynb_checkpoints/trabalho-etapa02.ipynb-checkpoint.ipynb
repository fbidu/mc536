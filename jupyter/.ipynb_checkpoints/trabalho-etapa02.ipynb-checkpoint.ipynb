{
 "cells": [
  {
   "cell_type": "code",
   "execution_count": 1,
   "metadata": {},
   "outputs": [],
   "source": [
    "%defaultDatasource jdbc:h2:mem:db"
   ]
  },
  {
   "cell_type": "code",
   "execution_count": 28,
   "metadata": {},
   "outputs": [],
   "source": [
    "DROP TABLE IF EXISTS Patients;\n",
    "CREATE TABLE Patients (\n",
    "    PUBCSNUM VARCHAR(10),\n",
    "    RACE1V VARCHAR(10),\n",
    "    SEX VARCHAR(10),\n",
    "    YR_BRTH VARCHAR(10),\n",
    "    PRIMARY KEY(PUBCSNUM)\n",
    ") AS SELECT\n",
    "  PUBCSNUM,RACE1V,SEX,YR_BRTH\n",
    "FROM CSVREAD('../data/seerdatap.csv');"
   ]
  },
  {
   "cell_type": "code",
   "execution_count": 30,
   "metadata": {},
   "outputs": [],
   "source": [
    "SELECT * FROM Patients WHERE PUBCSNUM='430' LIMIT 10;"
   ]
  },
  {
   "cell_type": "code",
   "execution_count": 41,
   "metadata": {},
   "outputs": [],
   "source": [
    "DROP TABLE IF EXISTS Diagnostics;\n",
    "CREATE TABLE Diagnostics (\n",
    "    ID bigint auto_increment,\n",
    "    PUBCSNUM VARCHAR(20),\n",
    "    REG VARCHAR(20),\n",
    "    MAR_STAT VARCHAR(20),\n",
    "    AGE_DX int,\n",
    "    SEQ_NUM VARCHAR(20),\n",
    "    MDXRECMP VARCHAR(20),\n",
    "    YEAR_DX VARCHAR(20),\n",
    "    PRIMSITE VARCHAR(20),\n",
    "    GRADE VARCHAR(20),\n",
    "    DX_CONF VARCHAR(20),\n",
    "    TUMOR_3V VARCHAR(20),\n",
    "    CSTUMSIZ INT,\n",
    "    REC_NO VARCHAR(20),\n",
    "    SITERWHO VARCHAR(20),\n",
    "    RAC_RECY VARCHAR(20),\n",
    "    FIRSTPRM VARCHAR(20),\n",
    "    CODPUB VARCHAR(20),\n",
    "    STAT_REC VARCHAR(20),\n",
    "    VSRTSADX VARCHAR(20),\n",
    "    ODTHCLASS VARCHAR(20),\n",
    "    SRV_TIME_MON VARCHAR(20),\n",
    "    PRIMARY KEY(ID)\n",
    ") AS SELECT\n",
    "  ID,PUBCSNUM,REG,MAR_STAT,AGE_DX,SEQ_NUM,MDXRECMP,YEAR_DX,PRIMSITE,GRADE,\n",
    "  DX_CONF,TUMOR_3V,CSTUMSIZ,REC_NO,SITERWHO,RAC_RECY,FIRSTPRM,CODPUB,STAT_REC,\n",
    "  VSRTSADX,ODTHCLASS,SRV_TIME_MON\n",
    "FROM CSVREAD('../data/seerdatad.csv');"
   ]
  },
  {
   "cell_type": "code",
   "execution_count": 31,
   "metadata": {},
   "outputs": [
    {
     "data": {
      "application/vnd.jupyter.widget-view+json": {
       "model_id": "b62b6367-ac2d-4ae4-88b0-572f66b1995e",
       "version_major": 2,
       "version_minor": 0
      },
      "method": "display_data"
     },
     "metadata": {},
     "output_type": "display_data"
    }
   ],
   "source": [
    "SELECT * FROM Diagnostics LIMIT 10;"
   ]
  },
  {
   "cell_type": "code",
   "execution_count": 40,
   "metadata": {},
   "outputs": [
    {
     "data": {
      "text/plain": [
       "50"
      ]
     },
     "execution_count": 40,
     "metadata": {},
     "output_type": "execute_result"
    }
   ],
   "source": [
    "-- Média, mínimo e máximo de idade das pessoas diagnosticadas, em anos\n",
    "SELECT AVG(AGE_DX)/12 FROM Diagnostics;"
   ]
  },
  {
   "cell_type": "code",
   "execution_count": 39,
   "metadata": {},
   "outputs": [
    {
     "data": {
      "text/plain": [
       "82"
      ]
     },
     "execution_count": 39,
     "metadata": {},
     "output_type": "execute_result"
    }
   ],
   "source": [
    "SELECT MAX(AGE_DX)/12 FROM Diagnostics;"
   ]
  },
  {
   "cell_type": "code",
   "execution_count": 38,
   "metadata": {},
   "outputs": [
    {
     "data": {
      "text/plain": [
       "1"
      ]
     },
     "execution_count": 38,
     "metadata": {},
     "output_type": "execute_result"
    }
   ],
   "source": [
    "SELECT MIN(AGE_DX) FROM Diagnostics;"
   ]
  },
  {
   "cell_type": "code",
   "execution_count": 44,
   "metadata": {},
   "outputs": [
    {
     "data": {
      "text/plain": [
       "235"
      ]
     },
     "execution_count": 44,
     "metadata": {},
     "output_type": "execute_result"
    }
   ],
   "source": [
    "-- Tamanho médio do tumor, em mm\n",
    "SELECT AVG(CSTUMSIZ) FROM Diagnostics WHERE CSTUMSIZ > 0 AND CSTUMSIZ < 989;"
   ]
  }
 ],
 "metadata": {
  "kernelspec": {
   "display_name": "SQL",
   "language": "SQL",
   "name": "sql"
  },
  "language_info": {
   "codemirror_mode": "sql",
   "file_extension": ".sql",
   "mimetype": "",
   "name": "SQL",
   "nbconverter_exporter": "",
   "version": ""
  }
 },
 "nbformat": 4,
 "nbformat_minor": 2
}
