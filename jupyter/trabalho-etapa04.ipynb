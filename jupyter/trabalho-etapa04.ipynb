{
 "cells": [
  {
   "cell_type": "code",
   "execution_count": 17,
   "metadata": {},
   "outputs": [
    {
     "data": {
      "text/html": [
       "<div class=\"krn-spql\"><div class=\"magic\">Endpoint set to: http://id.nlm.nih.gov/mesh/sparql</div><div class=\"magic\">Display: table</div><div class=\"magic\">Result maximum size: unlimited</div></div>"
      ],
      "text/plain": [
       "Endpoint set to: http://id.nlm.nih.gov/mesh/sparql\n",
       "Display: table\n",
       "Result maximum size: unlimited\n"
      ]
     },
     "metadata": {},
     "output_type": "display_data"
    },
    {
     "data": {
      "text/html": [
       "<div class=\"krn-spql\"><div class=\"krn-error\"><span class=\"title\">Error:</span> SPARQL error: EndPointInternalError: endpoint returned code 500 and response. <br/><br/>Response:<br/>b'Encountered &quot;&lt;EOF&gt;&quot; at line 9, column 51.\\nWas expecting one of:\\n    &quot;base&quot; ...\\n    &quot;prefix&quot; ...\\n    &quot;select&quot; ...\\n    &quot;describe&quot; ...\\n    &quot;construct&quot; ...\\n    &quot;ask&quot; ...\\n    '</div></div>"
      ],
      "text/plain": [
       "Error: SPARQL error: EndPointInternalError: endpoint returned code 500 and response. \n",
       "\n",
       "Response:\n",
       "b'Encountered \"<EOF>\" at line 9, column 51.\\nWas expecting one of:\\n    \"base\" ...\\n    \"prefix\" ...\\n    \"select\" ...\\n    \"describe\" ...\\n    \"construct\" ...\\n    \"ask\" ...\\n    '"
      ]
     },
     "metadata": {},
     "output_type": "display_data"
    }
   ],
   "source": [
    "%endpoint http://id.nlm.nih.gov/mesh/sparql\n",
    "%display table\n",
    "%show all\n"
   ]
  },
  {
   "cell_type": "markdown",
   "metadata": {},
   "source": [
    "# SPARQL\n",
    "## Em todas as questões e exercícios a seguir você pode limitar a saída para 20 itens usando a cláusula LIMIT 20."
   ]
  },
  {
   "cell_type": "markdown",
   "metadata": {},
   "source": [
    "# Exemplo\n",
    "## Quem é autor de The Tin Drum?"
   ]
  },
  {
   "cell_type": "code",
   "execution_count": 20,
   "metadata": {},
   "outputs": [
    {
     "data": {
      "text/html": [
       "<div class=\"krn-spql\"><table><tr class=hdr><th>p</th></tr><tr class=odd><td class=val><a href=\"http://id.nlm.nih.gov/mesh/vocab#abbreviation\" target=\"_other\">http://id.nlm.nih.gov/mesh/vocab#abbreviation</a></td></tr><tr class=even><td class=val><a href=\"http://id.nlm.nih.gov/mesh/vocab#active\" target=\"_other\">http://id.nlm.nih.gov/mesh/vocab#active</a></td></tr><tr class=odd><td class=val><a href=\"http://id.nlm.nih.gov/mesh/vocab#allowableQualifier\" target=\"_other\">http://id.nlm.nih.gov/mesh/vocab#allowableQualifier</a></td></tr><tr class=even><td class=val><a href=\"http://id.nlm.nih.gov/mesh/vocab#altLabel\" target=\"_other\">http://id.nlm.nih.gov/mesh/vocab#altLabel</a></td></tr><tr class=odd><td class=val><a href=\"http://id.nlm.nih.gov/mesh/vocab#annotation\" target=\"_other\">http://id.nlm.nih.gov/mesh/vocab#annotation</a></td></tr><tr class=even><td class=val><a href=\"http://id.nlm.nih.gov/mesh/vocab#broaderConcept\" target=\"_other\">http://id.nlm.nih.gov/mesh/vocab#broaderConcept</a></td></tr><tr class=odd><td class=val><a href=\"http://id.nlm.nih.gov/mesh/vocab#broaderDescriptor\" target=\"_other\">http://id.nlm.nih.gov/mesh/vocab#broaderDescriptor</a></td></tr><tr class=even><td class=val><a href=\"http://id.nlm.nih.gov/mesh/vocab#broaderQualifier\" target=\"_other\">http://id.nlm.nih.gov/mesh/vocab#broaderQualifier</a></td></tr><tr class=odd><td class=val><a href=\"http://id.nlm.nih.gov/mesh/vocab#casn1_label\" target=\"_other\">http://id.nlm.nih.gov/mesh/vocab#casn1_label</a></td></tr><tr class=even><td class=val><a href=\"http://id.nlm.nih.gov/mesh/vocab#concept\" target=\"_other\">http://id.nlm.nih.gov/mesh/vocab#concept</a></td></tr><tr class=odd><td class=val><a href=\"http://id.nlm.nih.gov/mesh/vocab#considerAlso\" target=\"_other\">http://id.nlm.nih.gov/mesh/vocab#considerAlso</a></td></tr><tr class=even><td class=val><a href=\"http://id.nlm.nih.gov/mesh/vocab#dateCreated\" target=\"_other\">http://id.nlm.nih.gov/mesh/vocab#dateCreated</a></td></tr><tr class=odd><td class=val><a href=\"http://id.nlm.nih.gov/mesh/vocab#dateEstablished\" target=\"_other\">http://id.nlm.nih.gov/mesh/vocab#dateEstablished</a></td></tr><tr class=even><td class=val><a href=\"http://id.nlm.nih.gov/mesh/vocab#dateRevised\" target=\"_other\">http://id.nlm.nih.gov/mesh/vocab#dateRevised</a></td></tr><tr class=odd><td class=val><a href=\"http://id.nlm.nih.gov/mesh/vocab#entryVersion\" target=\"_other\">http://id.nlm.nih.gov/mesh/vocab#entryVersion</a></td></tr><tr class=even><td class=val><a href=\"http://id.nlm.nih.gov/mesh/vocab#frequency\" target=\"_other\">http://id.nlm.nih.gov/mesh/vocab#frequency</a></td></tr><tr class=odd><td class=val><a href=\"http://id.nlm.nih.gov/mesh/vocab#hasDescriptor\" target=\"_other\">http://id.nlm.nih.gov/mesh/vocab#hasDescriptor</a></td></tr><tr class=even><td class=val><a href=\"http://id.nlm.nih.gov/mesh/vocab#hasQualifier\" target=\"_other\">http://id.nlm.nih.gov/mesh/vocab#hasQualifier</a></td></tr><tr class=odd><td class=val><a href=\"http://id.nlm.nih.gov/mesh/vocab#historyNote\" target=\"_other\">http://id.nlm.nih.gov/mesh/vocab#historyNote</a></td></tr><tr class=even><td class=val><a href=\"http://id.nlm.nih.gov/mesh/vocab#identifier\" target=\"_other\">http://id.nlm.nih.gov/mesh/vocab#identifier</a></td></tr><tr class=odd><td class=val><a href=\"http://id.nlm.nih.gov/mesh/vocab#indexerConsiderAlso\" target=\"_other\">http://id.nlm.nih.gov/mesh/vocab#indexerConsiderAlso</a></td></tr><tr class=even><td class=val><a href=\"http://id.nlm.nih.gov/mesh/vocab#lastActiveYear\" target=\"_other\">http://id.nlm.nih.gov/mesh/vocab#lastActiveYear</a></td></tr><tr class=odd><td class=val><a href=\"http://id.nlm.nih.gov/mesh/vocab#lexicalTag\" target=\"_other\">http://id.nlm.nih.gov/mesh/vocab#lexicalTag</a></td></tr><tr class=even><td class=val><a href=\"http://id.nlm.nih.gov/mesh/vocab#mappedTo\" target=\"_other\">http://id.nlm.nih.gov/mesh/vocab#mappedTo</a></td></tr><tr class=odd><td class=val><a href=\"http://id.nlm.nih.gov/mesh/vocab#narrowerConcept\" target=\"_other\">http://id.nlm.nih.gov/mesh/vocab#narrowerConcept</a></td></tr><tr class=even><td class=val><a href=\"http://id.nlm.nih.gov/mesh/vocab#nlmClassificationNumber\" target=\"_other\">http://id.nlm.nih.gov/mesh/vocab#nlmClassificationNumber</a></td></tr><tr class=odd><td class=val><a href=\"http://id.nlm.nih.gov/mesh/vocab#note\" target=\"_other\">http://id.nlm.nih.gov/mesh/vocab#note</a></td></tr><tr class=even><td class=val><a href=\"http://id.nlm.nih.gov/mesh/vocab#onlineNote\" target=\"_other\">http://id.nlm.nih.gov/mesh/vocab#onlineNote</a></td></tr><tr class=odd><td class=val><a href=\"http://id.nlm.nih.gov/mesh/vocab#parentTreeNumber\" target=\"_other\">http://id.nlm.nih.gov/mesh/vocab#parentTreeNumber</a></td></tr><tr class=even><td class=val><a href=\"http://id.nlm.nih.gov/mesh/vocab#pharmacologicalAction\" target=\"_other\">http://id.nlm.nih.gov/mesh/vocab#pharmacologicalAction</a></td></tr><tr class=odd><td class=val><a href=\"http://id.nlm.nih.gov/mesh/vocab#prefLabel\" target=\"_other\">http://id.nlm.nih.gov/mesh/vocab#prefLabel</a></td></tr><tr class=even><td class=val><a href=\"http://id.nlm.nih.gov/mesh/vocab#preferredConcept\" target=\"_other\">http://id.nlm.nih.gov/mesh/vocab#preferredConcept</a></td></tr><tr class=odd><td class=val><a href=\"http://id.nlm.nih.gov/mesh/vocab#preferredMappedTo\" target=\"_other\">http://id.nlm.nih.gov/mesh/vocab#preferredMappedTo</a></td></tr><tr class=even><td class=val><a href=\"http://id.nlm.nih.gov/mesh/vocab#preferredTerm\" target=\"_other\">http://id.nlm.nih.gov/mesh/vocab#preferredTerm</a></td></tr><tr class=odd><td class=val><a href=\"http://id.nlm.nih.gov/mesh/vocab#previousIndexing\" target=\"_other\">http://id.nlm.nih.gov/mesh/vocab#previousIndexing</a></td></tr><tr class=even><td class=val><a href=\"http://id.nlm.nih.gov/mesh/vocab#publicMeSHNote\" target=\"_other\">http://id.nlm.nih.gov/mesh/vocab#publicMeSHNote</a></td></tr><tr class=odd><td class=val><a href=\"http://id.nlm.nih.gov/mesh/vocab#registryNumber\" target=\"_other\">http://id.nlm.nih.gov/mesh/vocab#registryNumber</a></td></tr><tr class=even><td class=val><a href=\"http://id.nlm.nih.gov/mesh/vocab#relatedConcept\" target=\"_other\">http://id.nlm.nih.gov/mesh/vocab#relatedConcept</a></td></tr><tr class=odd><td class=val><a href=\"http://id.nlm.nih.gov/mesh/vocab#relatedRegistryNumber\" target=\"_other\">http://id.nlm.nih.gov/mesh/vocab#relatedRegistryNumber</a></td></tr><tr class=even><td class=val><a href=\"http://id.nlm.nih.gov/mesh/vocab#scopeNote\" target=\"_other\">http://id.nlm.nih.gov/mesh/vocab#scopeNote</a></td></tr><tr class=odd><td class=val><a href=\"http://id.nlm.nih.gov/mesh/vocab#seeAlso\" target=\"_other\">http://id.nlm.nih.gov/mesh/vocab#seeAlso</a></td></tr><tr class=even><td class=val><a href=\"http://id.nlm.nih.gov/mesh/vocab#sortVersion\" target=\"_other\">http://id.nlm.nih.gov/mesh/vocab#sortVersion</a></td></tr><tr class=odd><td class=val><a href=\"http://id.nlm.nih.gov/mesh/vocab#source\" target=\"_other\">http://id.nlm.nih.gov/mesh/vocab#source</a></td></tr><tr class=even><td class=val><a href=\"http://id.nlm.nih.gov/mesh/vocab#term\" target=\"_other\">http://id.nlm.nih.gov/mesh/vocab#term</a></td></tr><tr class=odd><td class=val><a href=\"http://id.nlm.nih.gov/mesh/vocab#thesaurusID\" target=\"_other\">http://id.nlm.nih.gov/mesh/vocab#thesaurusID</a></td></tr><tr class=even><td class=val><a href=\"http://id.nlm.nih.gov/mesh/vocab#treeNumber\" target=\"_other\">http://id.nlm.nih.gov/mesh/vocab#treeNumber</a></td></tr><tr class=odd><td class=val><a href=\"http://id.nlm.nih.gov/mesh/vocab#useInstead\" target=\"_other\">http://id.nlm.nih.gov/mesh/vocab#useInstead</a></td></tr><tr class=even><td class=val><a href=\"http://www.w3.org/1999/02/22-rdf-syntax-ns#type\" target=\"_other\">http://www.w3.org/1999/02/22-rdf-syntax-ns#type</a></td></tr><tr class=odd><td class=val><a href=\"http://www.w3.org/2000/01/rdf-schema#label\" target=\"_other\">http://www.w3.org/2000/01/rdf-schema#label</a></td></tr></table><div class=\"tinfo\">Total: 49, Shown: 49</div></div>"
      ]
     },
     "metadata": {},
     "output_type": "display_data"
    }
   ],
   "source": [
    "PREFIX rdf: <http://www.w3.org/1999/02/22-rdf-syntax-ns#>\n",
    "PREFIX rdfs: <http://www.w3.org/2000/01/rdf-schema#>\n",
    "PREFIX xsd: <http://www.w3.org/2001/XMLSchema#>\n",
    "PREFIX owl: <http://www.w3.org/2002/07/owl#>\n",
    "PREFIX meshv: <http://id.nlm.nih.gov/mesh/vocab#>\n",
    "PREFIX mesh: <http://id.nlm.nih.gov/mesh/>\n",
    "PREFIX mesh2015: <http://id.nlm.nih.gov/mesh/2015/>\n",
    "PREFIX mesh2016: <http://id.nlm.nih.gov/mesh/2016/>\n",
    "PREFIX mesh2017: <http://id.nlm.nih.gov/mesh/2017/>\n",
    "\n",
    "SELECT DISTINCT ?p\n",
    "FROM <http://id.nlm.nih.gov/mesh>\n",
    "WHERE {\n",
    "\n",
    "  ?s ?p ?o\n",
    "  \n",
    "}\n",
    "ORDER BY ?p"
   ]
  },
  {
   "cell_type": "markdown",
   "metadata": {},
   "source": [
    "# Questão\n",
    "## Quais os livros escritos por Günter Grass?"
   ]
  },
  {
   "cell_type": "code",
   "execution_count": null,
   "metadata": {},
   "outputs": [],
   "source": []
  },
  {
   "cell_type": "markdown",
   "metadata": {},
   "source": [
    "# Exemplo\n",
    "## Quais os escritores?"
   ]
  },
  {
   "cell_type": "code",
   "execution_count": 3,
   "metadata": {},
   "outputs": [
    {
     "data": {
      "text/html": [
       "<div class=\"krn-spql\"><table><tr class=hdr><th>wri</th></tr><tr class=odd><td class=val><a href=\"http://dbpedia.org/resource/Abbie_Hoffman\" target=\"_other\">http://dbpedia.org/resource/Abbie_Hoffman</a></td></tr><tr class=even><td class=val><a href=\"http://dbpedia.org/resource/Adam_Oehlenschläger\" target=\"_other\">http://dbpedia.org/resource/Adam_Oehlenschläger</a></td></tr><tr class=odd><td class=val><a href=\"http://dbpedia.org/resource/Adam_Wiśniewski-Snerg\" target=\"_other\">http://dbpedia.org/resource/Adam_Wiśniewski-Snerg</a></td></tr><tr class=even><td class=val><a href=\"http://dbpedia.org/resource/Adrienne_Rich\" target=\"_other\">http://dbpedia.org/resource/Adrienne_Rich</a></td></tr><tr class=odd><td class=val><a href=\"http://dbpedia.org/resource/Alessandro_Manzoni\" target=\"_other\">http://dbpedia.org/resource/Alessandro_Manzoni</a></td></tr><tr class=even><td class=val><a href=\"http://dbpedia.org/resource/Alfred_Bester\" target=\"_other\">http://dbpedia.org/resource/Alfred_Bester</a></td></tr><tr class=odd><td class=val><a href=\"http://dbpedia.org/resource/Alice_Walker\" target=\"_other\">http://dbpedia.org/resource/Alice_Walker</a></td></tr><tr class=even><td class=val><a href=\"http://dbpedia.org/resource/Amy_Tan\" target=\"_other\">http://dbpedia.org/resource/Amy_Tan</a></td></tr><tr class=odd><td class=val><a href=\"http://dbpedia.org/resource/Andrew_Marvell\" target=\"_other\">http://dbpedia.org/resource/Andrew_Marvell</a></td></tr><tr class=even><td class=val><a href=\"http://dbpedia.org/resource/Andrew_Sarris\" target=\"_other\">http://dbpedia.org/resource/Andrew_Sarris</a></td></tr><tr class=odd><td class=val><a href=\"http://dbpedia.org/resource/André_Breton\" target=\"_other\">http://dbpedia.org/resource/André_Breton</a></td></tr><tr class=even><td class=val><a href=\"http://dbpedia.org/resource/André_Malraux\" target=\"_other\">http://dbpedia.org/resource/André_Malraux</a></td></tr><tr class=odd><td class=val><a href=\"http://dbpedia.org/resource/Anne_Desclos\" target=\"_other\">http://dbpedia.org/resource/Anne_Desclos</a></td></tr><tr class=even><td class=val><a href=\"http://dbpedia.org/resource/Anthony_Burgess\" target=\"_other\">http://dbpedia.org/resource/Anthony_Burgess</a></td></tr><tr class=odd><td class=val><a href=\"http://dbpedia.org/resource/Arthur_Machen\" target=\"_other\">http://dbpedia.org/resource/Arthur_Machen</a></td></tr><tr class=even><td class=val><a href=\"http://dbpedia.org/resource/Astrid_Lindgren\" target=\"_other\">http://dbpedia.org/resource/Astrid_Lindgren</a></td></tr><tr class=odd><td class=val><a href=\"http://dbpedia.org/resource/August_Strindberg\" target=\"_other\">http://dbpedia.org/resource/August_Strindberg</a></td></tr><tr class=even><td class=val><a href=\"http://dbpedia.org/resource/Augusto_Boal\" target=\"_other\">http://dbpedia.org/resource/Augusto_Boal</a></td></tr><tr class=odd><td class=val><a href=\"http://dbpedia.org/resource/Barry_Took\" target=\"_other\">http://dbpedia.org/resource/Barry_Took</a></td></tr><tr class=even><td class=val><a href=\"http://dbpedia.org/resource/Ben_Jonson\" target=\"_other\">http://dbpedia.org/resource/Ben_Jonson</a></td></tr></table><div class=\"tinfo\">Total: 20, Shown: 20</div></div>"
      ]
     },
     "metadata": {},
     "output_type": "display_data"
    }
   ],
   "source": [
    "select distinct ?wri\n",
    "  where {?wri rdf:type dbo:Writer}\n",
    "  limit 20"
   ]
  },
  {
   "cell_type": "markdown",
   "metadata": {},
   "source": [
    "# Questão\n",
    "## Quais as entidades de língua alemã?"
   ]
  },
  {
   "cell_type": "code",
   "execution_count": null,
   "metadata": {},
   "outputs": [],
   "source": []
  },
  {
   "cell_type": "markdown",
   "metadata": {},
   "source": [
    "# Questão\n",
    "## Quais os autores de língua alemã?"
   ]
  },
  {
   "cell_type": "code",
   "execution_count": null,
   "metadata": {},
   "outputs": [],
   "source": []
  },
  {
   "cell_type": "markdown",
   "metadata": {},
   "source": [
    "# Questão\n",
    "## Quais os escritores traduzidos por Ralph Manheim?"
   ]
  },
  {
   "cell_type": "code",
   "execution_count": null,
   "metadata": {},
   "outputs": [],
   "source": []
  },
  {
   "cell_type": "markdown",
   "metadata": {},
   "source": [
    "# Exercício 1\n",
    "## Liste as cidades disponíveis na DBPedia."
   ]
  },
  {
   "cell_type": "code",
   "execution_count": null,
   "metadata": {},
   "outputs": [],
   "source": []
  },
  {
   "cell_type": "markdown",
   "metadata": {},
   "source": [
    "# Exercício 2\n",
    "## Liste todas as cidades administradas pelo partido socialista."
   ]
  },
  {
   "cell_type": "code",
   "execution_count": null,
   "metadata": {},
   "outputs": [],
   "source": []
  },
  {
   "cell_type": "markdown",
   "metadata": {},
   "source": [
    "# Exercício 3\n",
    "## Quem é o prefeito de Paris?"
   ]
  },
  {
   "cell_type": "code",
   "execution_count": null,
   "metadata": {},
   "outputs": [],
   "source": []
  },
  {
   "cell_type": "markdown",
   "metadata": {},
   "source": [
    "# Exercício 4\n",
    "## Liste todas as cidades administradas por um prefeito que nasceu em Paris."
   ]
  },
  {
   "cell_type": "code",
   "execution_count": null,
   "metadata": {},
   "outputs": [],
   "source": []
  },
  {
   "cell_type": "markdown",
   "metadata": {},
   "source": [
    "# Exercício 5\n",
    "## Liste todas as plantas que têm flores"
   ]
  },
  {
   "cell_type": "code",
   "execution_count": null,
   "metadata": {},
   "outputs": [],
   "source": []
  },
  {
   "cell_type": "markdown",
   "metadata": {},
   "source": [
    "# MeSH SPARQL endpoint\n",
    "## Explore o endpoint em: http://id.nlm.nih.gov/mesh"
   ]
  },
  {
   "cell_type": "code",
   "execution_count": 4,
   "metadata": {},
   "outputs": [
    {
     "data": {
      "text/html": [
       "<div class=\"krn-spql\"><div class=\"magic\">Endpoint set to: http://id.nlm.nih.gov/mesh/sparql</div><div class=\"magic\">Display: table</div><div class=\"magic\">Result maximum size: unlimited</div></div>"
      ],
      "text/plain": [
       "Endpoint set to: http://id.nlm.nih.gov/mesh/sparql\n",
       "Display: table\n",
       "Result maximum size: unlimited\n"
      ]
     },
     "metadata": {},
     "output_type": "display_data"
    }
   ],
   "source": [
    "%endpoint http://id.nlm.nih.gov/mesh/sparql\n",
    "%display table\n",
    "%show all"
   ]
  },
  {
   "cell_type": "markdown",
   "metadata": {},
   "source": [
    "# Exemplo\n",
    "## Ações farmacológicas"
   ]
  },
  {
   "cell_type": "code",
   "execution_count": 5,
   "metadata": {},
   "outputs": [
    {
     "data": {
      "text/html": [
       "<div class=\"krn-spql\"><table><tr class=hdr><th>pa</th>\n",
       "<th>paLabel</th></tr><tr class=odd><td class=val><a href=\"http://id.nlm.nih.gov/mesh/D000892\" target=\"_other\">http://id.nlm.nih.gov/mesh/D000892</a></td>\n",
       "<td class=val>Anti-Infective Agents, Urinary</td></tr><tr class=even><td class=val><a href=\"http://id.nlm.nih.gov/mesh/D000900\" target=\"_other\">http://id.nlm.nih.gov/mesh/D000900</a></td>\n",
       "<td class=val>Anti-Bacterial Agents</td></tr><tr class=odd><td class=val><a href=\"http://id.nlm.nih.gov/mesh/D059005\" target=\"_other\">http://id.nlm.nih.gov/mesh/D059005</a></td>\n",
       "<td class=val>Topoisomerase II Inhibitors</td></tr><tr class=even><td class=val><a href=\"http://id.nlm.nih.gov/mesh/D065609\" target=\"_other\">http://id.nlm.nih.gov/mesh/D065609</a></td>\n",
       "<td class=val>Cytochrome P-450 CYP1A2 Inhibitors</td></tr></table><div class=\"tinfo\">Total: 4, Shown: 4</div></div>"
      ]
     },
     "metadata": {},
     "output_type": "display_data"
    }
   ],
   "source": [
    "PREFIX rdf: <http://www.w3.org/1999/02/22-rdf-syntax-ns#>\n",
    "PREFIX rdfs: <http://www.w3.org/2000/01/rdf-schema#>\n",
    "PREFIX xsd: <http://www.w3.org/2001/XMLSchema#>\n",
    "PREFIX owl: <http://www.w3.org/2002/07/owl#>\n",
    "PREFIX meshv: <http://id.nlm.nih.gov/mesh/vocab#>\n",
    "PREFIX mesh: <http://id.nlm.nih.gov/mesh/>\n",
    "PREFIX mesh2015: <http://id.nlm.nih.gov/mesh/2015/>\n",
    "PREFIX mesh2016: <http://id.nlm.nih.gov/mesh/2016/>\n",
    "PREFIX mesh2017: <http://id.nlm.nih.gov/mesh/2017/>\n",
    "PREFIX mesh2018: <http://id.nlm.nih.gov/mesh/2018/>\n",
    "\n",
    "SELECT * \n",
    "WHERE {\n",
    "  mesh:D015242 meshv:pharmacologicalAction ?pa .\n",
    "  ?pa rdfs:label ?paLabel .\n",
    "}"
   ]
  },
  {
   "cell_type": "markdown",
   "metadata": {},
   "source": [
    "# Exercício 6\n",
    "## Encontre todos os conceitos que recebem o rótulo Myocardial Infarction"
   ]
  },
  {
   "cell_type": "markdown",
   "metadata": {},
   "source": []
  }
 ],
 "metadata": {
  "kernelspec": {
   "display_name": "SPARQL",
   "language": "sparql",
   "name": "sparql"
  },
  "language_info": {
   "codemirror_mode": {
    "name": "sparql"
   },
   "mimetype": "application/sparql-query",
   "name": "sparql",
   "pygments_lexer": "sparql-nb"
  }
 },
 "nbformat": 4,
 "nbformat_minor": 2
}
