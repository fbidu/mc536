{
 "cells": [
  {
   "cell_type": "code",
   "execution_count": 30,
   "metadata": {},
   "outputs": [
    {
     "data": {
      "text/html": [
       "<div class=\"krn-spql\"><div class=\"magic\">Endpoint set to: http://id.nlm.nih.gov/mesh/sparql</div><div class=\"magic\">Display: table</div><div class=\"magic\">Result maximum size: unlimited</div></div>"
      ],
      "text/plain": [
       "Endpoint set to: http://id.nlm.nih.gov/mesh/sparql\n",
       "Display: table\n",
       "Result maximum size: unlimited\n"
      ]
     },
     "metadata": {},
     "output_type": "display_data"
    }
   ],
   "source": [
    "%endpoint http://id.nlm.nih.gov/mesh/sparql\n",
    "%display table\n",
    "%show all\n"
   ]
  },
  {
   "cell_type": "markdown",
   "metadata": {},
   "source": [
    "# SPARQL\n",
    "## Usando SPARQL para analisar dados sobre cânceres no MeSH\n"
   ]
  },
  {
   "cell_type": "markdown",
   "metadata": {},
   "source": [
    "### Quais são as entidades filhas de Neoplasmas no MeSH?"
   ]
  },
  {
   "cell_type": "code",
   "execution_count": 32,
   "metadata": {},
   "outputs": [
    {
     "data": {
      "text/html": [
       "<div class=\"krn-spql\"><table><tr class=hdr><th>descriptor</th>\n",
       "<th>label</th></tr><tr class=odd><td class=val><a href=\"http://id.nlm.nih.gov/mesh/D000182\" target=\"_other\">http://id.nlm.nih.gov/mesh/D000182</a></td>\n",
       "<td class=val>ACTH Syndrome, Ectopic</td></tr><tr class=even><td class=val><a href=\"http://id.nlm.nih.gov/mesh/D049913\" target=\"_other\">http://id.nlm.nih.gov/mesh/D049913</a></td>\n",
       "<td class=val>ACTH-Secreting Pituitary Adenoma</td></tr><tr class=odd><td class=val><a href=\"http://id.nlm.nih.gov/mesh/D000008\" target=\"_other\">http://id.nlm.nih.gov/mesh/D000008</a></td>\n",
       "<td class=val>Abdominal Neoplasms</td></tr><tr class=even><td class=val><a href=\"http://id.nlm.nih.gov/mesh/D058739\" target=\"_other\">http://id.nlm.nih.gov/mesh/D058739</a></td>\n",
       "<td class=val>Aberrant Crypt Foci</td></tr><tr class=odd><td class=val><a href=\"http://id.nlm.nih.gov/mesh/D049309\" target=\"_other\">http://id.nlm.nih.gov/mesh/D049309</a></td>\n",
       "<td class=val>Acanthoma</td></tr><tr class=even><td class=val><a href=\"http://id.nlm.nih.gov/mesh/D018250\" target=\"_other\">http://id.nlm.nih.gov/mesh/D018250</a></td>\n",
       "<td class=val>Acrospiroma</td></tr><tr class=odd><td class=val><a href=\"http://id.nlm.nih.gov/mesh/D050398\" target=\"_other\">http://id.nlm.nih.gov/mesh/D050398</a></td>\n",
       "<td class=val>Adamantinoma</td></tr><tr class=even><td class=val><a href=\"http://id.nlm.nih.gov/mesh/D000230\" target=\"_other\">http://id.nlm.nih.gov/mesh/D000230</a></td>\n",
       "<td class=val>Adenocarcinoma</td></tr><tr class=odd><td class=val><a href=\"http://id.nlm.nih.gov/mesh/D065311\" target=\"_other\">http://id.nlm.nih.gov/mesh/D065311</a></td>\n",
       "<td class=val>Adenocarcinoma in Situ</td></tr><tr class=even><td class=val><a href=\"http://id.nlm.nih.gov/mesh/D002282\" target=\"_other\">http://id.nlm.nih.gov/mesh/D002282</a></td>\n",
       "<td class=val>Adenocarcinoma, Bronchiolo-Alveolar</td></tr></table><div class=\"tinfo\">Total: 10, Shown: 10</div></div>"
      ]
     },
     "metadata": {},
     "output_type": "display_data"
    }
   ],
   "source": [
    "PREFIX rdf: <http://www.w3.org/1999/02/22-rdf-syntax-ns#>\n",
    "PREFIX rdfs: <http://www.w3.org/2000/01/rdf-schema#>\n",
    "PREFIX xsd: <http://www.w3.org/2001/XMLSchema#>\n",
    "PREFIX owl: <http://www.w3.org/2002/07/owl#>\n",
    "PREFIX meshv: <http://id.nlm.nih.gov/mesh/vocab#>\n",
    "PREFIX mesh: <http://id.nlm.nih.gov/mesh/>\n",
    "PREFIX mesh2015: <http://id.nlm.nih.gov/mesh/2015/>\n",
    "PREFIX mesh2016: <http://id.nlm.nih.gov/mesh/2016/>\n",
    "PREFIX mesh2017: <http://id.nlm.nih.gov/mesh/2017/>\n",
    "\n",
    " SELECT DISTINCT ?descriptor ?label\n",
    " FROM <http://id.nlm.nih.gov/mesh>\n",
    "\n",
    " WHERE {\n",
    "   mesh:D009369 meshv:treeNumber ?treeNum .\n",
    "   ?childTreeNum meshv:parentTreeNumber+ ?treeNum .\n",
    "   ?descriptor meshv:treeNumber ?childTreeNum .\n",
    "   ?descriptor rdfs:label ?label .\n",
    " }\n",
    " \n",
    " ORDER BY ?label\n",
    " LIMIT 10\n"
   ]
  },
  {
   "cell_type": "markdown",
   "metadata": {},
   "source": [
    "## Quando que essas entidades foram estabelecidas?"
   ]
  },
  {
   "cell_type": "code",
   "execution_count": 46,
   "metadata": {},
   "outputs": [
    {
     "data": {
      "text/html": [
       "<div class=\"krn-spql\"><table><tr class=hdr><th>descriptor</th>\n",
       "<th>label</th>\n",
       "<th>dateEstablished</th></tr><tr class=odd><td class=val><a href=\"http://id.nlm.nih.gov/mesh/D007889\" target=\"_other\">http://id.nlm.nih.gov/mesh/D007889</a></td>\n",
       "<td class=val>Leiomyoma</td>\n",
       "<td class=val>1960-01-01</td></tr><tr class=even><td class=val><a href=\"http://id.nlm.nih.gov/mesh/D008202\" target=\"_other\">http://id.nlm.nih.gov/mesh/D008202</a></td>\n",
       "<td class=val>Lymphangioma</td>\n",
       "<td class=val>1960-01-01</td></tr><tr class=odd><td class=val><a href=\"http://id.nlm.nih.gov/mesh/D009379\" target=\"_other\">http://id.nlm.nih.gov/mesh/D009379</a></td>\n",
       "<td class=val>Neoplasms, Muscle Tissue</td>\n",
       "<td class=val>1960-01-01</td></tr><tr class=even><td class=val><a href=\"http://id.nlm.nih.gov/mesh/D008067\" target=\"_other\">http://id.nlm.nih.gov/mesh/D008067</a></td>\n",
       "<td class=val>Lipoma</td>\n",
       "<td class=val>1960-01-01</td></tr><tr class=odd><td class=val><a href=\"http://id.nlm.nih.gov/mesh/D012513\" target=\"_other\">http://id.nlm.nih.gov/mesh/D012513</a></td>\n",
       "<td class=val>Sarcoma, Experimental</td>\n",
       "<td class=val>1963-01-01</td></tr><tr class=even><td class=val><a href=\"http://id.nlm.nih.gov/mesh/D004806\" target=\"_other\">http://id.nlm.nih.gov/mesh/D004806</a></td>\n",
       "<td class=val>Ependymoma</td>\n",
       "<td class=val>1963-01-01</td></tr><tr class=odd><td class=val><a href=\"http://id.nlm.nih.gov/mesh/D001254\" target=\"_other\">http://id.nlm.nih.gov/mesh/D001254</a></td>\n",
       "<td class=val>Astrocytoma</td>\n",
       "<td class=val>1963-01-01</td></tr><tr class=even><td class=val><a href=\"http://id.nlm.nih.gov/mesh/D003884\" target=\"_other\">http://id.nlm.nih.gov/mesh/D003884</a></td>\n",
       "<td class=val>Dermoid Cyst</td>\n",
       "<td class=val>1963-01-01</td></tr><tr class=odd><td class=val><a href=\"http://id.nlm.nih.gov/mesh/D013736\" target=\"_other\">http://id.nlm.nih.gov/mesh/D013736</a></td>\n",
       "<td class=val>Testicular Neoplasms</td>\n",
       "<td class=val>1963-01-01</td></tr><tr class=even><td class=val><a href=\"http://id.nlm.nih.gov/mesh/D014983\" target=\"_other\">http://id.nlm.nih.gov/mesh/D014983</a></td>\n",
       "<td class=val>Xeroderma Pigmentosum</td>\n",
       "<td class=val>1963-01-01</td></tr></table><div class=\"tinfo\">Total: 10, Shown: 10</div></div>"
      ]
     },
     "metadata": {},
     "output_type": "display_data"
    }
   ],
   "source": [
    "PREFIX rdf: <http://www.w3.org/1999/02/22-rdf-syntax-ns#>\n",
    "PREFIX rdfs: <http://www.w3.org/2000/01/rdf-schema#>\n",
    "PREFIX xsd: <http://www.w3.org/2001/XMLSchema#>\n",
    "PREFIX owl: <http://www.w3.org/2002/07/owl#>\n",
    "PREFIX meshv: <http://id.nlm.nih.gov/mesh/vocab#>\n",
    "PREFIX mesh: <http://id.nlm.nih.gov/mesh/>\n",
    "PREFIX mesh2015: <http://id.nlm.nih.gov/mesh/2015/>\n",
    "PREFIX mesh2016: <http://id.nlm.nih.gov/mesh/2016/>\n",
    "PREFIX mesh2017: <http://id.nlm.nih.gov/mesh/2017/>\n",
    "\n",
    " SELECT DISTINCT ?descriptor ?label ?dateEstablished\n",
    " FROM <http://id.nlm.nih.gov/mesh>\n",
    "\n",
    " WHERE {\n",
    "   mesh:D009369 meshv:treeNumber ?treeNum .\n",
    "   ?childTreeNum meshv:parentTreeNumber+ ?treeNum .\n",
    "   ?descriptor meshv:treeNumber ?childTreeNum .\n",
    "   ?descriptor rdfs:label ?label .\n",
    "   ?descriptor meshv:dateEstablished ?dateEstablished\n",
    " }\n",
    " \n",
    " ORDER BY ?dateEstablished\n",
    " LIMIT 10\n"
   ]
  },
  {
   "cell_type": "markdown",
   "metadata": {},
   "source": [
    "### Quais são os tumores conhecidos que são Gliomas?\n",
    "\n",
    "Glioma é um tipo de tumor cerebral que afeta uma família de células chamadas \"células da glia\". No MeSH, essas entidades terão a propriedade `broaderDescriptor` marcadas como `Glioma` (D005910)"
   ]
  },
  {
   "cell_type": "code",
   "execution_count": 51,
   "metadata": {},
   "outputs": [
    {
     "data": {
      "text/html": [
       "<div class=\"krn-spql\"><table><tr class=hdr><th>descriptor</th>\n",
       "<th>label</th></tr><tr class=odd><td class=val><a href=\"http://id.nlm.nih.gov/mesh/D001254\" target=\"_other\">http://id.nlm.nih.gov/mesh/D001254</a></td>\n",
       "<td class=val>Astrocytoma</td></tr><tr class=even><td class=val><a href=\"http://id.nlm.nih.gov/mesh/D004806\" target=\"_other\">http://id.nlm.nih.gov/mesh/D004806</a></td>\n",
       "<td class=val>Ependymoma</td></tr><tr class=odd><td class=val><a href=\"http://id.nlm.nih.gov/mesh/D018303\" target=\"_other\">http://id.nlm.nih.gov/mesh/D018303</a></td>\n",
       "<td class=val>Ganglioglioma</td></tr><tr class=even><td class=val><a href=\"http://id.nlm.nih.gov/mesh/D018316\" target=\"_other\">http://id.nlm.nih.gov/mesh/D018316</a></td>\n",
       "<td class=val>Gliosarcoma</td></tr><tr class=odd><td class=val><a href=\"http://id.nlm.nih.gov/mesh/D008527\" target=\"_other\">http://id.nlm.nih.gov/mesh/D008527</a></td>\n",
       "<td class=val>Medulloblastoma</td></tr><tr class=even><td class=val><a href=\"http://id.nlm.nih.gov/mesh/D009837\" target=\"_other\">http://id.nlm.nih.gov/mesh/D009837</a></td>\n",
       "<td class=val>Oligodendroglioma</td></tr><tr class=odd><td class=val><a href=\"http://id.nlm.nih.gov/mesh/D020339\" target=\"_other\">http://id.nlm.nih.gov/mesh/D020339</a></td>\n",
       "<td class=val>Optic Nerve Glioma</td></tr></table><div class=\"tinfo\">Total: 7, Shown: 7</div></div>"
      ]
     },
     "metadata": {},
     "output_type": "display_data"
    }
   ],
   "source": [
    "PREFIX rdf: <http://www.w3.org/1999/02/22-rdf-syntax-ns#>\n",
    "PREFIX rdfs: <http://www.w3.org/2000/01/rdf-schema#>\n",
    "PREFIX xsd: <http://www.w3.org/2001/XMLSchema#>\n",
    "PREFIX owl: <http://www.w3.org/2002/07/owl#>\n",
    "PREFIX meshv: <http://id.nlm.nih.gov/mesh/vocab#>\n",
    "PREFIX mesh: <http://id.nlm.nih.gov/mesh/>\n",
    "PREFIX mesh2015: <http://id.nlm.nih.gov/mesh/2015/>\n",
    "PREFIX mesh2016: <http://id.nlm.nih.gov/mesh/2016/>\n",
    "PREFIX mesh2017: <http://id.nlm.nih.gov/mesh/2017/>\n",
    "\n",
    "SELECT DISTINCT ?descriptor ?label \n",
    "FROM <http://id.nlm.nih.gov/mesh>\n",
    "\n",
    "WHERE {\n",
    "    ?descriptor rdfs:label ?label .\n",
    "    ?descriptor meshv:broaderDescriptor mesh:D005910\n",
    "}\n",
    "\n",
    "ORDER BY ?label\n",
    "LIMIT 10"
   ]
  },
  {
   "cell_type": "markdown",
   "metadata": {},
   "source": [
    "### Quais tumores são do aparelho reprodutivo?"
   ]
  },
  {
   "cell_type": "code",
   "execution_count": 52,
   "metadata": {},
   "outputs": [
    {
     "data": {
      "text/html": [
       "<div class=\"krn-spql\"><table><tr class=hdr><th>descriptor</th>\n",
       "<th>label</th></tr><tr class=odd><td class=val><a href=\"http://id.nlm.nih.gov/mesh/D004407\" target=\"_other\">http://id.nlm.nih.gov/mesh/D004407</a></td>\n",
       "<td class=val>Dysgerminoma</td></tr><tr class=even><td class=val><a href=\"http://id.nlm.nih.gov/mesh/D018239\" target=\"_other\">http://id.nlm.nih.gov/mesh/D018239</a></td>\n",
       "<td class=val>Seminoma</td></tr></table><div class=\"tinfo\">Total: 2, Shown: 2</div></div>"
      ]
     },
     "metadata": {},
     "output_type": "display_data"
    }
   ],
   "source": [
    "PREFIX rdf: <http://www.w3.org/1999/02/22-rdf-syntax-ns#>\n",
    "PREFIX rdfs: <http://www.w3.org/2000/01/rdf-schema#>\n",
    "PREFIX xsd: <http://www.w3.org/2001/XMLSchema#>\n",
    "PREFIX owl: <http://www.w3.org/2002/07/owl#>\n",
    "PREFIX meshv: <http://id.nlm.nih.gov/mesh/vocab#>\n",
    "PREFIX mesh: <http://id.nlm.nih.gov/mesh/>\n",
    "PREFIX mesh2015: <http://id.nlm.nih.gov/mesh/2015/>\n",
    "PREFIX mesh2016: <http://id.nlm.nih.gov/mesh/2016/>\n",
    "PREFIX mesh2017: <http://id.nlm.nih.gov/mesh/2017/>\n",
    "\n",
    "SELECT DISTINCT ?descriptor ?label\n",
    "FROM <http://id.nlm.nih.gov/mesh>\n",
    "\n",
    "WHERE {\n",
    "    ?descriptor rdfs:label ?label .\n",
    "    ?descriptor meshv:broaderDescriptor mesh:D018237\n",
    "}\n",
    "ORDER BY ?label\n",
    "LIMIT 10"
   ]
  }
 ],
 "metadata": {
  "kernelspec": {
   "display_name": "SPARQL",
   "language": "sparql",
   "name": "sparql"
  },
  "language_info": {
   "codemirror_mode": {
    "name": "sparql"
   },
   "mimetype": "application/sparql-query",
   "name": "sparql",
   "pygments_lexer": "sparql-nb"
  }
 },
 "nbformat": 4,
 "nbformat_minor": 2
}
